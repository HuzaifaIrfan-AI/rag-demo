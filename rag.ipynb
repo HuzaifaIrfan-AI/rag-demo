{
 "cells": [
  {
   "cell_type": "code",
   "execution_count": null,
   "id": "d1c938ef",
   "metadata": {},
   "outputs": [
    {
     "name": "stdout",
     "output_type": "stream",
     "text": [
      "OLLAMA_BASE_URL at 'http://192.168.18.215:11434/'\n"
     ]
    }
   ],
   "source": [
    "OLLAMA_BASE_URL =\"http://192.168.18.215:11434/\"\n",
    "print(f\"OLLAMA_BASE_URL at '{OLLAMA_BASE_URL}'\")\n",
    "\n",
    "# Define Variables\n",
    "DOC_PATH = \"./data/*.md\"\n",
    "MODEL_NAME = \"llama3.2\"\n",
    "EMBEDDING_MODEL = \"nomic-embed-text\"\n",
    "VECTOR_STORE_NAME = \"simple-rag\"\n",
    "PERSIST_DIRECTORY = \"./chroma_db\""
   ]
  }
 ],
 "metadata": {
  "kernelspec": {
   "display_name": ".venv",
   "language": "python",
   "name": "python3"
  },
  "language_info": {
   "codemirror_mode": {
    "name": "ipython",
    "version": 3
   },
   "file_extension": ".py",
   "mimetype": "text/x-python",
   "name": "python",
   "nbconvert_exporter": "python",
   "pygments_lexer": "ipython3",
   "version": "3.13.3"
  }
 },
 "nbformat": 4,
 "nbformat_minor": 5
}
